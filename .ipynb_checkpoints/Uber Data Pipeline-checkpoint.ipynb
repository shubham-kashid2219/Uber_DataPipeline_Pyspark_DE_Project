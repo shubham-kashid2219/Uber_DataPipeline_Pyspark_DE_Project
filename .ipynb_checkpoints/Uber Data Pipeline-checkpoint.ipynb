{
 "cells": [
  {
   "cell_type": "markdown",
   "id": "26362502-5c4d-4b87-a280-8efaabe913ec",
   "metadata": {},
   "source": [
    "## === Uber Data Pipeline ==="
   ]
  },
  {
   "cell_type": "markdown",
   "id": "fc653331-9650-4769-9652-faec3e879b6b",
   "metadata": {},
   "source": [
    "### create SparkSession"
   ]
  },
  {
   "cell_type": "code",
   "execution_count": 1,
   "id": "996975b3-009f-43b7-b3a6-aae77887eaf8",
   "metadata": {},
   "outputs": [],
   "source": [
    "import findspark\n",
    "findspark.init()\n",
    "from pyspark.sql import SparkSession\n",
    "spark = SparkSession.builder.appName(\"uber_data_project\").getOrCreate()"
   ]
  },
  {
   "cell_type": "markdown",
   "id": "f1e5d0e7-cc66-4e1f-a1a6-533d7af895be",
   "metadata": {},
   "source": [
    "### Importing all the necessary libraries"
   ]
  },
  {
   "cell_type": "code",
   "execution_count": 2,
   "id": "1026cc4d-c4a8-42f0-b16f-b82ae869f28d",
   "metadata": {},
   "outputs": [],
   "source": [
    "from pyspark.sql.functions import when, hour, day, month, year, weekday, col"
   ]
  },
  {
   "cell_type": "markdown",
   "id": "10d06d22-cadd-4d93-be37-bd3f5caa42f9",
   "metadata": {},
   "source": [
    "### Read the flatfile data into Pyspark DataFrame "
   ]
  },
  {
   "cell_type": "code",
   "execution_count": 3,
   "id": "22469189-2188-4cb8-be50-9e45efb8f5dd",
   "metadata": {},
   "outputs": [],
   "source": [
    "df = spark.read.options(header = True, inferschema = True).csv(\"data/uber_data.csv\")"
   ]
  },
  {
   "cell_type": "code",
   "execution_count": 4,
   "id": "cb04bd82-09a9-4a6c-a8b1-1039b3928fea",
   "metadata": {},
   "outputs": [
    {
     "name": "stdout",
     "output_type": "stream",
     "text": [
      "root\n",
      " |-- VendorID: integer (nullable = true)\n",
      " |-- tpep_pickup_datetime: timestamp (nullable = true)\n",
      " |-- tpep_dropoff_datetime: timestamp (nullable = true)\n",
      " |-- passenger_count: integer (nullable = true)\n",
      " |-- trip_distance: double (nullable = true)\n",
      " |-- pickup_longitude: double (nullable = true)\n",
      " |-- pickup_latitude: double (nullable = true)\n",
      " |-- RatecodeID: integer (nullable = true)\n",
      " |-- store_and_fwd_flag: string (nullable = true)\n",
      " |-- dropoff_longitude: double (nullable = true)\n",
      " |-- dropoff_latitude: double (nullable = true)\n",
      " |-- payment_type: integer (nullable = true)\n",
      " |-- fare_amount: double (nullable = true)\n",
      " |-- extra: double (nullable = true)\n",
      " |-- mta_tax: double (nullable = true)\n",
      " |-- tip_amount: double (nullable = true)\n",
      " |-- tolls_amount: double (nullable = true)\n",
      " |-- improvement_surcharge: double (nullable = true)\n",
      " |-- total_amount: double (nullable = true)\n",
      "\n",
      "+--------+--------------------+---------------------+---------------+-------------+------------------+------------------+----------+------------------+------------------+------------------+------------+-----------+-----+-------+----------+------------+---------------------+------------+\n",
      "|VendorID|tpep_pickup_datetime|tpep_dropoff_datetime|passenger_count|trip_distance|  pickup_longitude|   pickup_latitude|RatecodeID|store_and_fwd_flag| dropoff_longitude|  dropoff_latitude|payment_type|fare_amount|extra|mta_tax|tip_amount|tolls_amount|improvement_surcharge|total_amount|\n",
      "+--------+--------------------+---------------------+---------------+-------------+------------------+------------------+----------+------------------+------------------+------------------+------------+-----------+-----+-------+----------+------------+---------------------+------------+\n",
      "|       1| 2016-03-01 00:00:00|  2016-03-01 00:07:55|              1|          2.5|-73.97674560546875|40.765151977539055|         1|                 N|-74.00426483154298| 40.74612808227539|           1|        9.0|  0.5|    0.5|      2.05|         0.0|                  0.3|       12.35|\n",
      "|       1| 2016-03-01 00:00:00|  2016-03-01 00:11:06|              1|          2.9|-73.98348236083984|40.767925262451165|         1|                 N|-74.00594329833984|  40.7331657409668|           1|       11.0|  0.5|    0.5|      3.05|         0.0|                  0.3|       15.35|\n",
      "|       2| 2016-03-01 00:00:00|  2016-03-01 00:31:06|              2|        19.98|-73.78202056884764| 40.64480972290039|         1|                 N|-73.97454071044923|  40.6757698059082|           1|       54.5|  0.5|    0.5|       8.0|         0.0|                  0.3|        63.8|\n",
      "|       2| 2016-03-01 00:00:00|  2016-03-01 00:00:00|              3|        10.78|-73.86341857910156|40.769813537597656|         1|                 N|-73.96965026855469|40.757766723632805|           1|       31.5|  0.0|    0.5|      3.78|        5.54|                  0.3|       41.62|\n",
      "|       2| 2016-03-01 00:00:00|  2016-03-01 00:00:00|              5|        30.43|-73.97174072265625| 40.79218292236328|         3|                 N|-74.17716979980467| 40.69505310058594|           1|       98.0|  0.0|    0.0|       0.0|        15.5|                  0.3|       113.8|\n",
      "+--------+--------------------+---------------------+---------------+-------------+------------------+------------------+----------+------------------+------------------+------------------+------------+-----------+-----+-------+----------+------------+---------------------+------------+\n",
      "only showing top 5 rows\n",
      "\n"
     ]
    }
   ],
   "source": [
    "df.printSchema()\n",
    "df.show(5)"
   ]
  },
  {
   "cell_type": "markdown",
   "id": "e2c12924-a636-4787-83aa-6ed56eb0352a",
   "metadata": {},
   "source": [
    "### Drop duplicates from the main df and add `\"trip_id\"` column with indexing"
   ]
  },
  {
   "cell_type": "code",
   "execution_count": 5,
   "id": "8c47ff5d-a4e6-4ee9-a2c1-1479bf82a86c",
   "metadata": {},
   "outputs": [],
   "source": [
    "from pyspark.sql.functions import monotonically_increasing_id\n",
    "df = df.drop_duplicates().withColumn('trip_id', monotonically_increasing_id())"
   ]
  },
  {
   "cell_type": "code",
   "execution_count": 6,
   "id": "cb2c048d-70a7-4c71-8e04-78a5504f1479",
   "metadata": {},
   "outputs": [
    {
     "name": "stdout",
     "output_type": "stream",
     "text": [
      "root\n",
      " |-- VendorID: integer (nullable = true)\n",
      " |-- tpep_pickup_datetime: timestamp (nullable = true)\n",
      " |-- tpep_dropoff_datetime: timestamp (nullable = true)\n",
      " |-- passenger_count: integer (nullable = true)\n",
      " |-- trip_distance: double (nullable = true)\n",
      " |-- pickup_longitude: double (nullable = true)\n",
      " |-- pickup_latitude: double (nullable = true)\n",
      " |-- RatecodeID: integer (nullable = true)\n",
      " |-- store_and_fwd_flag: string (nullable = true)\n",
      " |-- dropoff_longitude: double (nullable = true)\n",
      " |-- dropoff_latitude: double (nullable = true)\n",
      " |-- payment_type: integer (nullable = true)\n",
      " |-- fare_amount: double (nullable = true)\n",
      " |-- extra: double (nullable = true)\n",
      " |-- mta_tax: double (nullable = true)\n",
      " |-- tip_amount: double (nullable = true)\n",
      " |-- tolls_amount: double (nullable = true)\n",
      " |-- improvement_surcharge: double (nullable = true)\n",
      " |-- total_amount: double (nullable = true)\n",
      " |-- trip_id: long (nullable = false)\n",
      "\n",
      "+--------+--------------------+---------------------+---------------+-------------+------------------+------------------+----------+------------------+------------------+------------------+------------+-----------+-----+-------+----------+------------+---------------------+------------+-------+\n",
      "|VendorID|tpep_pickup_datetime|tpep_dropoff_datetime|passenger_count|trip_distance|  pickup_longitude|   pickup_latitude|RatecodeID|store_and_fwd_flag| dropoff_longitude|  dropoff_latitude|payment_type|fare_amount|extra|mta_tax|tip_amount|tolls_amount|improvement_surcharge|total_amount|trip_id|\n",
      "+--------+--------------------+---------------------+---------------+-------------+------------------+------------------+----------+------------------+------------------+------------------+------------+-----------+-----+-------+----------+------------+---------------------+------------+-------+\n",
      "|       2| 2016-03-10 07:07:59|  2016-03-10 07:15:17|              3|         1.29|-73.96041870117188| 40.77577972412109|         1|                 N|-73.97956085205078| 40.78376007080078|           1|        7.5|  0.0|    0.5|       1.0|         0.0|                  0.3|         9.3|      0|\n",
      "|       2| 2016-03-10 07:08:05|  2016-03-10 07:22:06|              2|         2.44|-73.98932647705078|40.688358306884766|         1|                 N|-74.00363159179686|40.707969665527344|           2|       11.5|  0.0|    0.5|       0.0|         0.0|                  0.3|        12.3|      1|\n",
      "|       2| 2016-03-10 07:09:37|  2016-03-10 07:20:53|              1|         2.03| -73.9813003540039|40.730918884277344|         1|                 N|-73.97920227050781|40.753116607666016|           1|       10.0|  0.0|    0.5|      2.16|         0.0|                  0.3|       12.96|      2|\n",
      "|       2| 2016-03-10 07:14:12|  2016-03-10 07:19:22|              6|         1.24|-73.94903564453125| 40.78052520751953|         1|                 N|-73.94375610351561| 40.79473114013672|           2|        6.0|  0.0|    0.5|       0.0|         0.0|                  0.3|         6.8|      3|\n",
      "|       2| 2016-03-10 07:14:23|  2016-03-10 07:20:58|              2|          2.1|-73.95292663574217|40.767520904541016|         1|                 N|-73.97410583496092|40.751407623291016|           2|        8.0|  0.0|    0.5|       0.0|         0.0|                  0.3|         8.8|      4|\n",
      "+--------+--------------------+---------------------+---------------+-------------+------------------+------------------+----------+------------------+------------------+------------------+------------+-----------+-----+-------+----------+------------+---------------------+------------+-------+\n",
      "only showing top 5 rows\n",
      "\n"
     ]
    }
   ],
   "source": [
    "df.printSchema()\n",
    "df.show(5)"
   ]
  },
  {
   "cell_type": "markdown",
   "id": "838af0ad-19bb-46b7-a742-2c4a47d7b25b",
   "metadata": {},
   "source": [
    "### Create DataFrame for `\"datetime_dim\"` dimension table"
   ]
  },
  {
   "cell_type": "code",
   "execution_count": 7,
   "id": "2455d36e-3769-4d22-a911-e88159d69898",
   "metadata": {},
   "outputs": [],
   "source": [
    "datetime_dim = df.withColumn(\"datetime_id\", monotonically_increasing_id()) \\\n",
    "                 .select(\"datetime_id\",\n",
    "                         df.tpep_pickup_datetime,\n",
    "                         hour(df.tpep_pickup_datetime).alias('pick_hour'),\n",
    "                         day(df.tpep_pickup_datetime).alias('pick_day'),\n",
    "                         month(df.tpep_pickup_datetime).alias('pick_month'),\n",
    "                         year(df.tpep_pickup_datetime).alias('pick_year'),\n",
    "                         weekday(df.tpep_pickup_datetime).alias('pick_weekday'),\n",
    "                         df.tpep_dropoff_datetime,\n",
    "                         hour(df.tpep_dropoff_datetime).alias('drop_hour'),\n",
    "                         day(df.tpep_dropoff_datetime).alias('drop_day'),\n",
    "                         month(df.tpep_dropoff_datetime).alias('drop_month'),\n",
    "                         year(df.tpep_dropoff_datetime).alias('drop_year'),\n",
    "                         weekday(df.tpep_dropoff_datetime).alias('drop_weekday'),\n",
    ")\n"
   ]
  },
  {
   "cell_type": "code",
   "execution_count": 8,
   "id": "8d82d830-a20b-4e5b-8877-0e0bd20afdfc",
   "metadata": {},
   "outputs": [
    {
     "name": "stdout",
     "output_type": "stream",
     "text": [
      "root\n",
      " |-- datetime_id: long (nullable = false)\n",
      " |-- tpep_pickup_datetime: timestamp (nullable = true)\n",
      " |-- pick_hour: integer (nullable = true)\n",
      " |-- pick_day: integer (nullable = true)\n",
      " |-- pick_month: integer (nullable = true)\n",
      " |-- pick_year: integer (nullable = true)\n",
      " |-- pick_weekday: integer (nullable = true)\n",
      " |-- tpep_dropoff_datetime: timestamp (nullable = true)\n",
      " |-- drop_hour: integer (nullable = true)\n",
      " |-- drop_day: integer (nullable = true)\n",
      " |-- drop_month: integer (nullable = true)\n",
      " |-- drop_year: integer (nullable = true)\n",
      " |-- drop_weekday: integer (nullable = true)\n",
      "\n",
      "+-----------+--------------------+---------+--------+----------+---------+------------+---------------------+---------+--------+----------+---------+------------+\n",
      "|datetime_id|tpep_pickup_datetime|pick_hour|pick_day|pick_month|pick_year|pick_weekday|tpep_dropoff_datetime|drop_hour|drop_day|drop_month|drop_year|drop_weekday|\n",
      "+-----------+--------------------+---------+--------+----------+---------+------------+---------------------+---------+--------+----------+---------+------------+\n",
      "|          0| 2016-03-10 07:07:59|        7|      10|         3|     2016|           3|  2016-03-10 07:15:17|        7|      10|         3|     2016|           3|\n",
      "|          1| 2016-03-10 07:08:05|        7|      10|         3|     2016|           3|  2016-03-10 07:22:06|        7|      10|         3|     2016|           3|\n",
      "|          2| 2016-03-10 07:09:37|        7|      10|         3|     2016|           3|  2016-03-10 07:20:53|        7|      10|         3|     2016|           3|\n",
      "|          3| 2016-03-10 07:14:12|        7|      10|         3|     2016|           3|  2016-03-10 07:19:22|        7|      10|         3|     2016|           3|\n",
      "|          4| 2016-03-10 07:14:23|        7|      10|         3|     2016|           3|  2016-03-10 07:20:58|        7|      10|         3|     2016|           3|\n",
      "+-----------+--------------------+---------+--------+----------+---------+------------+---------------------+---------+--------+----------+---------+------------+\n",
      "only showing top 5 rows\n",
      "\n"
     ]
    }
   ],
   "source": [
    "datetime_dim.printSchema()\n",
    "datetime_dim.show(5)"
   ]
  },
  {
   "cell_type": "markdown",
   "id": "079c451f-c031-43c8-ae7f-cedda44b416b",
   "metadata": {},
   "source": [
    "### Create DataFrame for `\"passenger_count_dim\"` dimension table"
   ]
  },
  {
   "cell_type": "code",
   "execution_count": 9,
   "id": "17dbce86-336d-4b3b-a623-04d766f00cb2",
   "metadata": {},
   "outputs": [],
   "source": [
    "passenger_count_dim = df.withColumn(\"passenger_count_id\", monotonically_increasing_id()) \\\n",
    "                         .select(\"passenger_count_id\", \n",
    "                                 \"passenger_count\")"
   ]
  },
  {
   "cell_type": "code",
   "execution_count": 10,
   "id": "84bfd284-c36a-4324-b93d-7d5f0da9cce3",
   "metadata": {},
   "outputs": [
    {
     "name": "stdout",
     "output_type": "stream",
     "text": [
      "root\n",
      " |-- passenger_count_id: long (nullable = false)\n",
      " |-- passenger_count: integer (nullable = true)\n",
      "\n",
      "+------------------+---------------+\n",
      "|passenger_count_id|passenger_count|\n",
      "+------------------+---------------+\n",
      "|                 0|              3|\n",
      "|                 1|              2|\n",
      "|                 2|              1|\n",
      "|                 3|              6|\n",
      "|                 4|              2|\n",
      "+------------------+---------------+\n",
      "only showing top 5 rows\n",
      "\n"
     ]
    }
   ],
   "source": [
    "passenger_count_dim.printSchema()\n",
    "passenger_count_dim.show(5)"
   ]
  },
  {
   "cell_type": "markdown",
   "id": "5c19ba58-ef23-4624-b4c8-2ff270811ed2",
   "metadata": {},
   "source": [
    "### Create DataFrame for `\"trip_distance_dim\"` dimension table"
   ]
  },
  {
   "cell_type": "code",
   "execution_count": 11,
   "id": "d16d0327-be08-41a8-afc6-d718cdd5e835",
   "metadata": {},
   "outputs": [],
   "source": [
    "trip_distance_dim = df.withColumn(\"trip_distance_id\", monotonically_increasing_id()) \\\n",
    "                        .select(\"trip_distance_id\", \n",
    "                                \"trip_distance\")"
   ]
  },
  {
   "cell_type": "code",
   "execution_count": 12,
   "id": "d5ee3b5b-ef85-43dd-8a29-7b1db48710c4",
   "metadata": {},
   "outputs": [
    {
     "name": "stdout",
     "output_type": "stream",
     "text": [
      "root\n",
      " |-- trip_distance_id: long (nullable = false)\n",
      " |-- trip_distance: double (nullable = true)\n",
      "\n",
      "+----------------+-------------+\n",
      "|trip_distance_id|trip_distance|\n",
      "+----------------+-------------+\n",
      "|               0|         1.29|\n",
      "|               1|         2.44|\n",
      "|               2|         2.03|\n",
      "|               3|         1.24|\n",
      "|               4|          2.1|\n",
      "+----------------+-------------+\n",
      "only showing top 5 rows\n",
      "\n"
     ]
    }
   ],
   "source": [
    "trip_distance_dim.printSchema()\n",
    "trip_distance_dim.show(5)"
   ]
  },
  {
   "cell_type": "markdown",
   "id": "7b3182cf-e0a1-4206-941e-3282d09d4680",
   "metadata": {},
   "source": [
    "### Create DataFrame for `\"pickup_location_dim\"` dimension table"
   ]
  },
  {
   "cell_type": "code",
   "execution_count": 13,
   "id": "472c9e21-3101-4a28-b954-2e4ae52ec607",
   "metadata": {},
   "outputs": [],
   "source": [
    "pickup_location_dim = df.withColumn(\"pickup_location_id\", monotonically_increasing_id()) \\\n",
    "                        .select(\"pickup_location_id\", \n",
    "                                \"pickup_latitude\", \n",
    "                                \"pickup_longitude\")\n"
   ]
  },
  {
   "cell_type": "code",
   "execution_count": 14,
   "id": "e9c03eae-8874-40ac-aa27-e0df183d686d",
   "metadata": {},
   "outputs": [
    {
     "name": "stdout",
     "output_type": "stream",
     "text": [
      "root\n",
      " |-- pickup_location_id: long (nullable = false)\n",
      " |-- pickup_latitude: double (nullable = true)\n",
      " |-- pickup_longitude: double (nullable = true)\n",
      "\n",
      "+------------------+------------------+------------------+\n",
      "|pickup_location_id|   pickup_latitude|  pickup_longitude|\n",
      "+------------------+------------------+------------------+\n",
      "|                 0| 40.77577972412109|-73.96041870117188|\n",
      "|                 1|40.688358306884766|-73.98932647705078|\n",
      "|                 2|40.730918884277344| -73.9813003540039|\n",
      "|                 3| 40.78052520751953|-73.94903564453125|\n",
      "|                 4|40.767520904541016|-73.95292663574217|\n",
      "+------------------+------------------+------------------+\n",
      "only showing top 5 rows\n",
      "\n"
     ]
    }
   ],
   "source": [
    "pickup_location_dim.printSchema()\n",
    "pickup_location_dim.show(5)"
   ]
  },
  {
   "cell_type": "markdown",
   "id": "2956832b-ab07-41ea-b866-8ae385874be6",
   "metadata": {},
   "source": [
    "### Create DataFrame for `\"dropoff_location_dim\"` dimension table"
   ]
  },
  {
   "cell_type": "code",
   "execution_count": 15,
   "id": "9340a43b-ce3f-471b-8532-398577dd0670",
   "metadata": {},
   "outputs": [],
   "source": [
    "dropoff_location_dim = df.withColumn(\"dropoff_location_id\", monotonically_increasing_id()) \\\n",
    "                        .select(\"dropoff_location_id\", \n",
    "                                \"dropoff_latitude\", \n",
    "                                \"dropoff_longitude\")"
   ]
  },
  {
   "cell_type": "code",
   "execution_count": 16,
   "id": "fc568f26-f103-41e7-be05-2b38e2075c42",
   "metadata": {},
   "outputs": [
    {
     "name": "stdout",
     "output_type": "stream",
     "text": [
      "root\n",
      " |-- dropoff_location_id: long (nullable = false)\n",
      " |-- dropoff_latitude: double (nullable = true)\n",
      " |-- dropoff_longitude: double (nullable = true)\n",
      "\n",
      "+-------------------+------------------+------------------+\n",
      "|dropoff_location_id|  dropoff_latitude| dropoff_longitude|\n",
      "+-------------------+------------------+------------------+\n",
      "|                  0| 40.78376007080078|-73.97956085205078|\n",
      "|                  1|40.707969665527344|-74.00363159179686|\n",
      "|                  2|40.753116607666016|-73.97920227050781|\n",
      "|                  3| 40.79473114013672|-73.94375610351561|\n",
      "|                  4|40.751407623291016|-73.97410583496092|\n",
      "+-------------------+------------------+------------------+\n",
      "only showing top 5 rows\n",
      "\n"
     ]
    },
    {
     "data": {
      "text/plain": [
       "100000"
      ]
     },
     "execution_count": 16,
     "metadata": {},
     "output_type": "execute_result"
    }
   ],
   "source": [
    "dropoff_location_dim.printSchema()\n",
    "dropoff_location_dim.show(5)\n",
    "dropoff_location_dim.count()"
   ]
  },
  {
   "cell_type": "markdown",
   "id": "40d581eb-f943-43f3-b37e-43a56f83bc56",
   "metadata": {},
   "source": [
    "### Create DataFrame for `\"rate_code_dim\"` dimension table"
   ]
  },
  {
   "cell_type": "code",
   "execution_count": 17,
   "id": "deec3df6-4c02-4553-b5a2-e9fe1ec78e67",
   "metadata": {},
   "outputs": [],
   "source": [
    "rate_code_dim = df.withColumn(\"rate_code_id\", monotonically_increasing_id()) \\\n",
    "                    .withColumn(\"rate_code_name\",\n",
    "                               when(col(\"RatecodeID\") == 1, \"Standard rate\") \\\n",
    "                               .when(col(\"RatecodeID\") == 2, \"JFK\") \\\n",
    "                                .when(col(\"RatecodeID\") == 3, \"Nassau or Westchester\") \\\n",
    "                                .when(col(\"RatecodeID\") == 4, \"Negotiated fare\") \\\n",
    "                                .when(col(\"RatecodeID\") == 5, \"Group ride\") \\\n",
    "                                .otherwise(\"other\")\n",
    "                               ) \\\n",
    "                    .select(\"rate_code_id\", \n",
    "                            \"RatecodeID\", \n",
    "                            \"rate_code_name\")"
   ]
  },
  {
   "cell_type": "code",
   "execution_count": 18,
   "id": "a4e2bf89-7dcc-422e-9543-199825c55fd8",
   "metadata": {},
   "outputs": [
    {
     "name": "stdout",
     "output_type": "stream",
     "text": [
      "root\n",
      " |-- rate_code_id: long (nullable = false)\n",
      " |-- RatecodeID: integer (nullable = true)\n",
      " |-- rate_code_name: string (nullable = false)\n",
      "\n",
      "+------------+----------+--------------+\n",
      "|rate_code_id|RatecodeID|rate_code_name|\n",
      "+------------+----------+--------------+\n",
      "|           0|         1| Standard rate|\n",
      "|           1|         1| Standard rate|\n",
      "|           2|         1| Standard rate|\n",
      "|           3|         1| Standard rate|\n",
      "|           4|         1| Standard rate|\n",
      "+------------+----------+--------------+\n",
      "only showing top 5 rows\n",
      "\n"
     ]
    }
   ],
   "source": [
    "rate_code_dim.printSchema()\n",
    "rate_code_dim.show(5)"
   ]
  },
  {
   "cell_type": "markdown",
   "id": "91c1e297-3a7c-4f2d-a755-a00da9636eeb",
   "metadata": {},
   "source": [
    "### Create DataFrame for `\"payment_type_dim\"` dimension table"
   ]
  },
  {
   "cell_type": "code",
   "execution_count": 19,
   "id": "497ffc9f-2fb8-4372-aff3-11b615c52887",
   "metadata": {},
   "outputs": [],
   "source": [
    "payment_type_dim = df.withColumn(\"payment_type_name\",\n",
    "                                      when(df.payment_type == 1, \"Credit card\") \\\n",
    "                                      .when(df.payment_type == 2, \"Cash\") \\\n",
    "                                      .when(df.payment_type == 3, \"No Charge\") \\\n",
    "                                      .when(df.payment_type == 4, \"Dispute\") \\\n",
    "                                      .when(df.payment_type == 5, \"Unknown\") \\\n",
    "                                      .when(df.payment_type == 6, \"Voided Trip\") \\\n",
    "                                      .otherwise(\"other\")) \\\n",
    "                        .withColumn(\"payment_type_id\", monotonically_increasing_id()) \\\n",
    "                        .select(\"payment_type_id\", \n",
    "                                \"payment_type\",\n",
    "                                \"payment_type_name\")\n"
   ]
  },
  {
   "cell_type": "code",
   "execution_count": 20,
   "id": "a80aab1d-3432-416b-a2c6-f3ed13f5e919",
   "metadata": {},
   "outputs": [
    {
     "name": "stdout",
     "output_type": "stream",
     "text": [
      "+---------------+------------+-----------------+\n",
      "|payment_type_id|payment_type|payment_type_name|\n",
      "+---------------+------------+-----------------+\n",
      "|              0|           1|      Credit card|\n",
      "|              1|           2|             Cash|\n",
      "|              2|           1|      Credit card|\n",
      "|              3|           2|             Cash|\n",
      "|              4|           2|             Cash|\n",
      "+---------------+------------+-----------------+\n",
      "only showing top 5 rows\n",
      "\n",
      "root\n",
      " |-- payment_type_id: long (nullable = false)\n",
      " |-- payment_type: integer (nullable = true)\n",
      " |-- payment_type_name: string (nullable = false)\n",
      "\n"
     ]
    }
   ],
   "source": [
    "payment_type_dim.show(5)\n",
    "payment_type_dim.printSchema()"
   ]
  },
  {
   "cell_type": "markdown",
   "id": "eaf20d06-6bf9-4179-80ea-ed972f89e855",
   "metadata": {},
   "source": [
    "### Create fact table by joining all dimension tables"
   ]
  },
  {
   "cell_type": "code",
   "execution_count": 21,
   "id": "d86a8cd9-2ed8-40f9-bb62-93fdf64b885d",
   "metadata": {},
   "outputs": [],
   "source": [
    "fact_table = df.join(passenger_count_dim, df['trip_id'] == passenger_count_dim['passenger_count_id']) \\\n",
    "                .join(trip_distance_dim, df['trip_id'] == trip_distance_dim['trip_distance_id']) \\\n",
    "                .join(pickup_location_dim, df['trip_id'] == pickup_location_dim['pickup_location_id']) \\\n",
    "                .join(dropoff_location_dim, df['trip_id'] == dropoff_location_dim['dropoff_location_id']) \\\n",
    "                .join(datetime_dim, df['trip_id'] == datetime_dim['datetime_id']) \\\n",
    "                .join(rate_code_dim, df['trip_id'] == rate_code_dim['rate_code_id']) \\\n",
    "                .join(payment_type_dim, df['trip_id'] == payment_type_dim['payment_type_id']) \\\n",
    "                .select(\"trip_id\", \n",
    "                        \"VendorID\", \n",
    "                        \"datetime_id\", \n",
    "                        \"passenger_count_id\", \n",
    "                        \"trip_distance_id\", \n",
    "                        \"pickup_location_id\", \n",
    "                        \"dropoff_location_id\", \n",
    "                        \"rate_code_id\", \n",
    "                        \"store_and_fwd_flag\", \n",
    "                        \"payment_type_id\", \n",
    "                        \"fare_amount\", \n",
    "                        \"extra\", \n",
    "                        \"mta_tax\", \n",
    "                        \"tip_amount\", \n",
    "                        \"tolls_amount\", \n",
    "                        \"improvement_surcharge\", \n",
    "                        \"total_amount\")"
   ]
  },
  {
   "cell_type": "code",
   "execution_count": 22,
   "id": "270becd7-e58b-4dc6-8b9b-a184c9320f4e",
   "metadata": {},
   "outputs": [
    {
     "name": "stdout",
     "output_type": "stream",
     "text": [
      "root\n",
      " |-- trip_id: long (nullable = false)\n",
      " |-- VendorID: integer (nullable = true)\n",
      " |-- datetime_id: long (nullable = false)\n",
      " |-- passenger_count_id: long (nullable = false)\n",
      " |-- trip_distance_id: long (nullable = false)\n",
      " |-- pickup_location_id: long (nullable = false)\n",
      " |-- dropoff_location_id: long (nullable = false)\n",
      " |-- rate_code_id: long (nullable = false)\n",
      " |-- store_and_fwd_flag: string (nullable = true)\n",
      " |-- payment_type_id: long (nullable = false)\n",
      " |-- fare_amount: double (nullable = true)\n",
      " |-- extra: double (nullable = true)\n",
      " |-- mta_tax: double (nullable = true)\n",
      " |-- tip_amount: double (nullable = true)\n",
      " |-- tolls_amount: double (nullable = true)\n",
      " |-- improvement_surcharge: double (nullable = true)\n",
      " |-- total_amount: double (nullable = true)\n",
      "\n",
      "+-------+--------+-----------+------------------+----------------+------------------+-------------------+------------+------------------+---------------+-----------+-----+-------+----------+------------+---------------------+------------+\n",
      "|trip_id|VendorID|datetime_id|passenger_count_id|trip_distance_id|pickup_location_id|dropoff_location_id|rate_code_id|store_and_fwd_flag|payment_type_id|fare_amount|extra|mta_tax|tip_amount|tolls_amount|improvement_surcharge|total_amount|\n",
      "+-------+--------+-----------+------------------+----------------+------------------+-------------------+------------+------------------+---------------+-----------+-----+-------+----------+------------+---------------------+------------+\n",
      "|      0|       2|          0|                 0|               0|                 0|                  0|           0|                 N|              0|        7.5|  0.0|    0.5|       1.0|         0.0|                  0.3|         9.3|\n",
      "|      1|       2|          1|                 1|               1|                 1|                  1|           1|                 N|              1|       11.5|  0.0|    0.5|       0.0|         0.0|                  0.3|        12.3|\n",
      "|      2|       2|          2|                 2|               2|                 2|                  2|           2|                 N|              2|       10.0|  0.0|    0.5|      2.16|         0.0|                  0.3|       12.96|\n",
      "|      3|       2|          3|                 3|               3|                 3|                  3|           3|                 N|              3|        6.0|  0.0|    0.5|       0.0|         0.0|                  0.3|         6.8|\n",
      "|      4|       2|          4|                 4|               4|                 4|                  4|           4|                 N|              4|        8.0|  0.0|    0.5|       0.0|         0.0|                  0.3|         8.8|\n",
      "+-------+--------+-----------+------------------+----------------+------------------+-------------------+------------+------------------+---------------+-----------+-----+-------+----------+------------+---------------------+------------+\n",
      "only showing top 5 rows\n",
      "\n"
     ]
    }
   ],
   "source": [
    "fact_table.printSchema()\n",
    "fact_table.show(5)"
   ]
  },
  {
   "cell_type": "code",
   "execution_count": 23,
   "id": "2335b675-0fd3-4b4e-a33f-df5f0fb1f16f",
   "metadata": {},
   "outputs": [],
   "source": [
    "spark.stop()"
   ]
  }
 ],
 "metadata": {
  "kernelspec": {
   "display_name": "Python 3 (ipykernel)",
   "language": "python",
   "name": "python3"
  },
  "language_info": {
   "codemirror_mode": {
    "name": "ipython",
    "version": 3
   },
   "file_extension": ".py",
   "mimetype": "text/x-python",
   "name": "python",
   "nbconvert_exporter": "python",
   "pygments_lexer": "ipython3",
   "version": "3.11.5"
  }
 },
 "nbformat": 4,
 "nbformat_minor": 5
}
